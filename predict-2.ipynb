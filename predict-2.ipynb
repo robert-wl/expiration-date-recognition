{
 "cells": [
  {
   "cell_type": "code",
   "execution_count": 110,
   "metadata": {},
   "outputs": [],
   "source": [
    "import os\n",
    "import pickle\n",
    "import cv2\n",
    "import numpy as np\n",
    "import random\n",
    "from matplotlib import pyplot as plt"
   ]
  },
  {
   "cell_type": "code",
   "execution_count": 111,
   "metadata": {},
   "outputs": [],
   "source": [
    "IMAGE_WIDTH = 20\n",
    "IMAGE_HEIGHT = 20\n",
    "\n",
    "TARGET_WIDTH = 320\n",
    "TARGET_HEIGHT = 80\n",
    "PADDING = 5\n",
    "\n",
    "MODEL_NAME = 'svm_model-2.pkl'\n",
    "DATASET_PATH = r'./images/'"
   ]
  },
  {
   "cell_type": "code",
   "execution_count": 112,
   "metadata": {},
   "outputs": [],
   "source": [
    "def load_model(name):\n",
    "    with open(name, 'rb') as f:\n",
    "        return pickle.load(f)"
   ]
  },
  {
   "cell_type": "code",
   "execution_count": 134,
   "metadata": {},
   "outputs": [],
   "source": [
    "def segmentate(vertical_pixel_count: list):\n",
    "    x_positions = []\n",
    "    current_x = 0\n",
    "    is_character = False\n",
    "    for index, count in enumerate(vertical_pixel_count):\n",
    "        if count == 0:\n",
    "            if is_character:\n",
    "                x_positions.append((current_x, index))\n",
    "                is_character = False\n",
    "            current_x = index\n",
    "        else:\n",
    "            is_character = True\n",
    "        \n",
    "    return x_positions\n",
    "\n",
    "\n",
    "def segment_image(image):\n",
    "    original_image = cv2.imread(image)\n",
    "    original_image  = cv2.resize(original_image, (TARGET_WIDTH, TARGET_HEIGHT))\n",
    "    image = cv2.cvtColor(original_image, cv2.COLOR_BGR2GRAY)\n",
    "    \n",
    "    _, th3 = cv2.threshold(image, 0, 255, cv2.THRESH_BINARY + cv2.THRESH_OTSU)\n",
    "    image = cv2.bitwise_not(th3)\n",
    "\n",
    "    \n",
    "    image = cv2.dilate(image, np.ones((1, 1), np.uint8), iterations=1)\n",
    "    \n",
    "    vertical_pixel_count = np.sum(image == 255, axis=0)\n",
    "    positions = segmentate(vertical_pixel_count)\n",
    "    \n",
    "    characters = []\n",
    "    for idx, (xStart, xEnd) in enumerate(positions):\n",
    "        character = original_image[:, xStart:xEnd]\n",
    "        \n",
    "        image = cv2.resize(character, (IMAGE_WIDTH, IMAGE_HEIGHT))\n",
    "        image = cv2.cvtColor(image, cv2.COLOR_BGR2GRAY)\n",
    "        \n",
    "        cv2.threshold(image, 127, 255, cv2.THRESH_BINARY, image)\n",
    "    \n",
    "        characters.append(image)\n",
    "            \n",
    "    return characters"
   ]
  },
  {
   "cell_type": "code",
   "execution_count": 114,
   "metadata": {},
   "outputs": [],
   "source": [
    "def preprocess_character(image):\n",
    "    image = cv2.resize(image, (IMAGE_WIDTH, IMAGE_HEIGHT))\n",
    "    # image = image.flatten()\n",
    "    return image"
   ]
  },
  {
   "cell_type": "code",
   "execution_count": 150,
   "metadata": {},
   "outputs": [
    {
     "name": "stdout",
     "output_type": "stream",
     "text": [
      "[2 0 7 1 2 7 7 2 2 0]\n"
     ]
    },
    {
     "data": {
      "image/png": "[encoded data removed]",
      "text/plain": [
       "<Figure size 640x480 with 1 Axes>"
      ]
     },
     "metadata": {},
     "output_type": "display_data"
    }
   ],
   "source": [
    "images = os.listdir(DATASET_PATH)\n",
    "\n",
    "model = load_model(MODEL_NAME)\n",
    "\n",
    "random.shuffle(images)\n",
    "\n",
    "for image_name in images[:1]:\n",
    "    image_path = os.path.join(DATASET_PATH, image_name)\n",
    "\n",
    "    characters = segment_image(image_path)\n",
    "    \n",
    "    pixel_counts = []\n",
    "    \n",
    "    for character in characters:\n",
    "        pixel_count = np.sum(character == 255, axis=0)\n",
    "        pixel_counts.append(pixel_count)\n",
    " \n",
    "\n",
    "    pred = model.predict(pixel_counts)\n",
    "    \n",
    "    print(pred)\n",
    "\n",
    "    plt.imshow(cv2.imread(image_path))\n",
    "    plt.show()\n",
    "    \n",
    "    "
   ]
  }
 ],
 "metadata": {
  "kernelspec": {
   "display_name": "new-misc-env",
   "language": "python",
   "name": "python3"
  },
  "language_info": {
   "codemirror_mode": {
    "name": "ipython",
    "version": 3
   },
   "file_extension": ".py",
   "mimetype": "text/x-python",
   "name": "python",
   "nbconvert_exporter": "python",
   "pygments_lexer": "ipython3",
   "version": "3.11.9"
  }
 },
 "nbformat": 4,
 "nbformat_minor": 2
}
